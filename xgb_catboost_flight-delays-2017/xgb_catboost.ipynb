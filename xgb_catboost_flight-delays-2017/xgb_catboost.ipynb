{
 "cells": [
  {
   "cell_type": "code",
   "execution_count": 1,
   "id": "10ab88f2",
   "metadata": {},
   "outputs": [],
   "source": [
    "import numpy as np\n",
    "import pandas as pd\n",
    "from sklearn.linear_model import LogisticRegression\n",
    "from sklearn.metrics import roc_auc_score, auc, roc_curve, confusion_matrix\n",
    "from sklearn.model_selection import train_test_split, StratifiedKFold, GridSearchCV\n",
    "from sklearn.preprocessing import StandardScaler\n",
    "from xgboost import XGBClassifier\n",
    "import seaborn as sns\n",
    "import matplotlib.pyplot as plt\n",
    "import xgboost as xgb\n",
    "from xgboost import XGBClassifier\n",
    "from catboost import CatBoostClassifier\n",
    "import seaborn as sns"
   ]
  },
  {
   "cell_type": "markdown",
   "id": "f10e70c5",
   "metadata": {},
   "source": [
    "### Description\n",
    "Предскажите задержки вылета в 15 и более минут. Известно время вылета, авиакомпания-перевозчик, \n",
    "место вылета и назначения, а также расстояние между ними. Прогнозируемый признак – бинарный, целевая метрика – ROC AUC.\n",
    "\n",
    "#### Признаки:\n",
    "Month, DayofMonth, DayOfWeek, месяц, день месяца и день недели  \n",
    "DepTime, время отправления  \n",
    "UniqueCarrier, код перевозчика  \n",
    "Origin, место вылета  \n",
    "Dest, место назначения  \n",
    "Distance, расстояние между аэропортами вылета и прилета  \n",
    "dep_delayed_15min, просрочка вылета на 15 и более минут (целевой признак)."
   ]
  },
  {
   "cell_type": "code",
   "execution_count": 2,
   "id": "149f0b38",
   "metadata": {},
   "outputs": [],
   "source": [
    "train = pd.read_csv(r\"C:\\Users\\_Lenovo_\\PycharmProjects\\jupyter_rabota\\flight-delays-2017\\flight_delays_train.csv\")\n",
    "test = pd.read_csv(r\"C:\\Users\\_Lenovo_\\PycharmProjects\\jupyter_rabota\\flight-delays-2017\\flight_delays_test.csv\")\n",
    "sample_submission = pd.read_csv(r\"C:\\Users\\_Lenovo_\\PycharmProjects\\jupyter_rabota\\flight-delays-2017\\sample_submission.csv\")"
   ]
  },
  {
   "cell_type": "code",
   "execution_count": 3,
   "id": "f852a3d1",
   "metadata": {
    "scrolled": true
   },
   "outputs": [
    {
     "data": {
      "text/html": [
       "<div>\n",
       "<style scoped>\n",
       "    .dataframe tbody tr th:only-of-type {\n",
       "        vertical-align: middle;\n",
       "    }\n",
       "\n",
       "    .dataframe tbody tr th {\n",
       "        vertical-align: top;\n",
       "    }\n",
       "\n",
       "    .dataframe thead th {\n",
       "        text-align: right;\n",
       "    }\n",
       "</style>\n",
       "<table border=\"1\" class=\"dataframe\">\n",
       "  <thead>\n",
       "    <tr style=\"text-align: right;\">\n",
       "      <th></th>\n",
       "      <th>Month</th>\n",
       "      <th>DayofMonth</th>\n",
       "      <th>DayOfWeek</th>\n",
       "      <th>DepTime</th>\n",
       "      <th>UniqueCarrier</th>\n",
       "      <th>Origin</th>\n",
       "      <th>Dest</th>\n",
       "      <th>Distance</th>\n",
       "      <th>dep_delayed_15min</th>\n",
       "    </tr>\n",
       "  </thead>\n",
       "  <tbody>\n",
       "    <tr>\n",
       "      <th>0</th>\n",
       "      <td>c-8</td>\n",
       "      <td>c-21</td>\n",
       "      <td>c-7</td>\n",
       "      <td>1934</td>\n",
       "      <td>AA</td>\n",
       "      <td>ATL</td>\n",
       "      <td>DFW</td>\n",
       "      <td>732</td>\n",
       "      <td>N</td>\n",
       "    </tr>\n",
       "    <tr>\n",
       "      <th>1</th>\n",
       "      <td>c-4</td>\n",
       "      <td>c-20</td>\n",
       "      <td>c-3</td>\n",
       "      <td>1548</td>\n",
       "      <td>US</td>\n",
       "      <td>PIT</td>\n",
       "      <td>MCO</td>\n",
       "      <td>834</td>\n",
       "      <td>N</td>\n",
       "    </tr>\n",
       "    <tr>\n",
       "      <th>2</th>\n",
       "      <td>c-9</td>\n",
       "      <td>c-2</td>\n",
       "      <td>c-5</td>\n",
       "      <td>1422</td>\n",
       "      <td>XE</td>\n",
       "      <td>RDU</td>\n",
       "      <td>CLE</td>\n",
       "      <td>416</td>\n",
       "      <td>N</td>\n",
       "    </tr>\n",
       "    <tr>\n",
       "      <th>3</th>\n",
       "      <td>c-11</td>\n",
       "      <td>c-25</td>\n",
       "      <td>c-6</td>\n",
       "      <td>1015</td>\n",
       "      <td>OO</td>\n",
       "      <td>DEN</td>\n",
       "      <td>MEM</td>\n",
       "      <td>872</td>\n",
       "      <td>N</td>\n",
       "    </tr>\n",
       "    <tr>\n",
       "      <th>4</th>\n",
       "      <td>c-10</td>\n",
       "      <td>c-7</td>\n",
       "      <td>c-6</td>\n",
       "      <td>1828</td>\n",
       "      <td>WN</td>\n",
       "      <td>MDW</td>\n",
       "      <td>OMA</td>\n",
       "      <td>423</td>\n",
       "      <td>Y</td>\n",
       "    </tr>\n",
       "  </tbody>\n",
       "</table>\n",
       "</div>"
      ],
      "text/plain": [
       "  Month DayofMonth DayOfWeek  DepTime UniqueCarrier Origin Dest  Distance   \n",
       "0   c-8       c-21       c-7     1934            AA    ATL  DFW       732  \\\n",
       "1   c-4       c-20       c-3     1548            US    PIT  MCO       834   \n",
       "2   c-9        c-2       c-5     1422            XE    RDU  CLE       416   \n",
       "3  c-11       c-25       c-6     1015            OO    DEN  MEM       872   \n",
       "4  c-10        c-7       c-6     1828            WN    MDW  OMA       423   \n",
       "\n",
       "  dep_delayed_15min  \n",
       "0                 N  \n",
       "1                 N  \n",
       "2                 N  \n",
       "3                 N  \n",
       "4                 Y  "
      ]
     },
     "execution_count": 3,
     "metadata": {},
     "output_type": "execute_result"
    }
   ],
   "source": [
    "initial_shape_train = train.shape\n",
    "train.head()"
   ]
  },
  {
   "cell_type": "code",
   "execution_count": 4,
   "id": "c7216790",
   "metadata": {},
   "outputs": [
    {
     "data": {
      "text/html": [
       "<div>\n",
       "<style scoped>\n",
       "    .dataframe tbody tr th:only-of-type {\n",
       "        vertical-align: middle;\n",
       "    }\n",
       "\n",
       "    .dataframe tbody tr th {\n",
       "        vertical-align: top;\n",
       "    }\n",
       "\n",
       "    .dataframe thead th {\n",
       "        text-align: right;\n",
       "    }\n",
       "</style>\n",
       "<table border=\"1\" class=\"dataframe\">\n",
       "  <thead>\n",
       "    <tr style=\"text-align: right;\">\n",
       "      <th></th>\n",
       "      <th>Month</th>\n",
       "      <th>DayofMonth</th>\n",
       "      <th>DayOfWeek</th>\n",
       "      <th>DepTime</th>\n",
       "      <th>UniqueCarrier</th>\n",
       "      <th>Origin</th>\n",
       "      <th>Dest</th>\n",
       "      <th>Distance</th>\n",
       "    </tr>\n",
       "  </thead>\n",
       "  <tbody>\n",
       "    <tr>\n",
       "      <th>0</th>\n",
       "      <td>c-7</td>\n",
       "      <td>c-25</td>\n",
       "      <td>c-3</td>\n",
       "      <td>615</td>\n",
       "      <td>YV</td>\n",
       "      <td>MRY</td>\n",
       "      <td>PHX</td>\n",
       "      <td>598</td>\n",
       "    </tr>\n",
       "    <tr>\n",
       "      <th>1</th>\n",
       "      <td>c-4</td>\n",
       "      <td>c-17</td>\n",
       "      <td>c-2</td>\n",
       "      <td>739</td>\n",
       "      <td>WN</td>\n",
       "      <td>LAS</td>\n",
       "      <td>HOU</td>\n",
       "      <td>1235</td>\n",
       "    </tr>\n",
       "    <tr>\n",
       "      <th>2</th>\n",
       "      <td>c-12</td>\n",
       "      <td>c-2</td>\n",
       "      <td>c-7</td>\n",
       "      <td>651</td>\n",
       "      <td>MQ</td>\n",
       "      <td>GSP</td>\n",
       "      <td>ORD</td>\n",
       "      <td>577</td>\n",
       "    </tr>\n",
       "    <tr>\n",
       "      <th>3</th>\n",
       "      <td>c-3</td>\n",
       "      <td>c-25</td>\n",
       "      <td>c-7</td>\n",
       "      <td>1614</td>\n",
       "      <td>WN</td>\n",
       "      <td>BWI</td>\n",
       "      <td>MHT</td>\n",
       "      <td>377</td>\n",
       "    </tr>\n",
       "    <tr>\n",
       "      <th>4</th>\n",
       "      <td>c-6</td>\n",
       "      <td>c-6</td>\n",
       "      <td>c-3</td>\n",
       "      <td>1505</td>\n",
       "      <td>UA</td>\n",
       "      <td>ORD</td>\n",
       "      <td>STL</td>\n",
       "      <td>258</td>\n",
       "    </tr>\n",
       "  </tbody>\n",
       "</table>\n",
       "</div>"
      ],
      "text/plain": [
       "  Month DayofMonth DayOfWeek  DepTime UniqueCarrier Origin Dest  Distance\n",
       "0   c-7       c-25       c-3      615            YV    MRY  PHX       598\n",
       "1   c-4       c-17       c-2      739            WN    LAS  HOU      1235\n",
       "2  c-12        c-2       c-7      651            MQ    GSP  ORD       577\n",
       "3   c-3       c-25       c-7     1614            WN    BWI  MHT       377\n",
       "4   c-6        c-6       c-3     1505            UA    ORD  STL       258"
      ]
     },
     "execution_count": 4,
     "metadata": {},
     "output_type": "execute_result"
    }
   ],
   "source": [
    "initial_shape_test = test.shape\n",
    "test.head()"
   ]
  },
  {
   "cell_type": "code",
   "execution_count": 5,
   "id": "d4b60cdf",
   "metadata": {},
   "outputs": [
    {
     "data": {
      "text/plain": [
       "Month                False\n",
       "DayofMonth           False\n",
       "DayOfWeek            False\n",
       "DepTime              False\n",
       "UniqueCarrier        False\n",
       "Origin               False\n",
       "Dest                 False\n",
       "Distance             False\n",
       "dep_delayed_15min    False\n",
       "dtype: bool"
      ]
     },
     "execution_count": 5,
     "metadata": {},
     "output_type": "execute_result"
    }
   ],
   "source": [
    "#Проверяем, есть ли в DataFrame пропуски\n",
    "train.isna().any()"
   ]
  },
  {
   "cell_type": "markdown",
   "id": "93249468",
   "metadata": {},
   "source": [
    "В качестве простейшего бенчмарка возьмем логистическую регрессию и два признака, которые проще всего взять: DepTime и Distance."
   ]
  },
  {
   "cell_type": "code",
   "execution_count": 6,
   "id": "c8b213c6",
   "metadata": {},
   "outputs": [],
   "source": [
    "X_train, y_train = (train[[\"DepTime\", \"Distance\"]].values,\n",
    "                    train[\"dep_delayed_15min\"].map({\"Y\": 1, \"N\": 0}).values,\n",
    ")\n",
    "X_test = test[[\"Distance\", \"DepTime\"]].values\n",
    "X_train_part, X_valid, y_train_part, y_valid = train_test_split(X_train, y_train, test_size=0.3, random_state=32\n",
    ")"
   ]
  },
  {
   "cell_type": "code",
   "execution_count": 7,
   "id": "cb664592",
   "metadata": {},
   "outputs": [],
   "source": [
    "logit = LogisticRegression(random_state=32)\n",
    "\n",
    "logit.fit(X_train_part, y_train_part)\n",
    "logit_valid_pred = logit.predict_proba(X_valid)[:, 1]"
   ]
  },
  {
   "cell_type": "code",
   "execution_count": 8,
   "id": "25890de5",
   "metadata": {},
   "outputs": [
    {
     "data": {
      "text/plain": [
       "0.6877344133091989"
      ]
     },
     "execution_count": 8,
     "metadata": {},
     "output_type": "execute_result"
    }
   ],
   "source": [
    "roc_auc_score(y_valid, logit_valid_pred)"
   ]
  },
  {
   "cell_type": "code",
   "execution_count": 9,
   "id": "78f4eea1",
   "metadata": {},
   "outputs": [
    {
     "data": {
      "image/png": "[encoded data removed]",
      "text/plain": [
       "<Figure size 500x500 with 1 Axes>"
      ]
     },
     "metadata": {},
     "output_type": "display_data"
    }
   ],
   "source": [
    "fpr_log, tpr_log, thresholds_log = roc_curve(y_valid, logit_valid_pred)\n",
    "plt.figure(figsize=(5, 5))\n",
    "plt.plot(fpr_log, tpr_log, color='darkorange', lw=2, label=\"ROC Curve\")\n",
    "plt.plot([0, 1], [0, 1], color='navy', lw=2, linestyle='--')\n",
    "plt.xlabel('False Positive Rate')\n",
    "plt.ylabel('True Positive Rate')\n",
    "plt.title('ROC curve (area = {:.2f})'.format(roc_auc_score(y_valid, logit_valid_pred)))\n",
    "plt.xlim([0,1])\n",
    "plt.ylim([0,1])\n",
    "plt.show()"
   ]
  },
  {
   "cell_type": "code",
   "execution_count": 10,
   "id": "7e5302f9",
   "metadata": {},
   "outputs": [],
   "source": [
    "# Копируем наши данные для дальнейшей работы, и оригинал данных оставляем неизменными.\n",
    "X_train_new_features_cat = train.copy()\n",
    "X_test_new_features_cat = test.copy()\n",
    "\n",
    "# Создаём новый признак \"маршрут\" из места вылета в место назначения.\n",
    "X_train_new_features_cat['Route'] = train['Origin'] + '_' + train['Dest']\n",
    "X_train_new_features_cat['dep_delayed_15min'] = X_train_new_features_cat['dep_delayed_15min'].map({\"Y\": 1, \"N\": 0})\n",
    "X_test_new_features_cat['Route'] = test['Origin'] + '_' + test['Dest']"
   ]
  },
  {
   "cell_type": "code",
   "execution_count": 11,
   "id": "a8a3dd3d",
   "metadata": {},
   "outputs": [
    {
     "data": {
      "text/plain": [
       "Month              12\n",
       "DayofMonth         31\n",
       "DayOfWeek           7\n",
       "UniqueCarrier      22\n",
       "Origin            289\n",
       "Dest              289\n",
       "Route            4429\n",
       "dtype: int64"
      ]
     },
     "execution_count": 11,
     "metadata": {},
     "output_type": "execute_result"
    }
   ],
   "source": [
    "# Смотрим на количество номинативных переменных.\n",
    "\n",
    "X_train_new_features_cat.loc[:, X_train_new_features_cat.dtypes == 'object'].nunique()"
   ]
  },
  {
   "cell_type": "markdown",
   "id": "fd8a4ee7",
   "metadata": {},
   "source": [
    "Далее решаем путём \"One-Hot Encoding\" видоизменить наши номинативные признаки, все, кроме признака \"Route\".\n",
    "Уникальных переменных в признаке \"Route\" многовато, будем использовать технику кодирования категориальных признаков \n",
    "средним значением целевого признака (Mean Target). Основная идея – для каждого значения категориального признака \n",
    "посчитать среднее значение целевого признака и заменить категориальный признак на посчитанные средние. \n",
    "Правда, считать средние надо на кросс-валидации, а то легко переобучиться."
   ]
  },
  {
   "cell_type": "code",
   "execution_count": 12,
   "id": "eee55e28",
   "metadata": {},
   "outputs": [
    {
     "data": {
      "text/plain": [
       "653"
      ]
     },
     "execution_count": 12,
     "metadata": {},
     "output_type": "execute_result"
    }
   ],
   "source": [
    "# Считаем ожидаемое количество признаков, в конце +1 это признак Route.\n",
    "\n",
    "counted_features = (sum(X_train_new_features_cat.drop(['Route'], axis=1).loc[:, X_train_new_features_cat.dtypes == 'object'].\n",
    "                        nunique().values)\n",
    "                        + len(X_train_new_features_cat.loc[:, X_train_new_features_cat.dtypes != 'object'].\n",
    "                              drop(['dep_delayed_15min'], axis=1).nunique().values)+1)\n",
    "counted_features"
   ]
  },
  {
   "cell_type": "code",
   "execution_count": 13,
   "id": "6a62992b",
   "metadata": {},
   "outputs": [],
   "source": [
    "# Преобразуем номинативные признаки, бинаризация категориальных признаков (One-Hot Encoding).\n",
    "\n",
    "X_train_new_features = pd.get_dummies(X_train_new_features_cat, columns=['Month','DayofMonth','DayOfWeek','UniqueCarrier','Origin','Dest'])\n",
    "X_train_new_features.loc[:, X_train_new_features.dtypes == bool] = (X_train_new_features.loc\n",
    "                                                                [:, X_train_new_features.dtypes == bool].astype(int)\n",
    ")"
   ]
  },
  {
   "cell_type": "code",
   "execution_count": 14,
   "id": "c051d925",
   "metadata": {},
   "outputs": [
    {
     "data": {
      "text/plain": [
       "True"
      ]
     },
     "execution_count": 14,
     "metadata": {},
     "output_type": "execute_result"
    }
   ],
   "source": [
    "# Проверяем если ожидаемое количество признаков совпадает с фактическим.\n",
    "\n",
    "X_train_new_features.drop(['dep_delayed_15min'], axis=1).shape[1] == counted_features"
   ]
  },
  {
   "cell_type": "code",
   "execution_count": 15,
   "id": "27f774a5",
   "metadata": {},
   "outputs": [
    {
     "data": {
      "text/plain": [
       "(70000, 653)"
      ]
     },
     "execution_count": 15,
     "metadata": {},
     "output_type": "execute_result"
    }
   ],
   "source": [
    "# Делим наши данные на test и valid.\n",
    "\n",
    "skf = StratifiedKFold(n_splits=5, shuffle=True, random_state=32)\n",
    "y_train_new_features = X_train_new_features[\"dep_delayed_15min\"]\n",
    "\n",
    "X_train_new_features_part, X_valid_new_features_part, y_train_new_features_part, y_valid_new_features_part = train_test_split(\n",
    "    X_train_new_features.drop(\"dep_delayed_15min\", axis=1),\n",
    "    y_train_new_features,\n",
    "    test_size=0.3,\n",
    "    stratify=y_train_new_features,\n",
    "    random_state=32\n",
    ")\n",
    "X_train_new_features_part.shape"
   ]
  },
  {
   "cell_type": "code",
   "execution_count": 16,
   "id": "607ba7df",
   "metadata": {},
   "outputs": [],
   "source": [
    "# Создаём нашу функцию для кодирования номинативных признаков (Mean Target).\n",
    "\n",
    "def mean_target_enc(train_df, y_train, valid_df, skf):\n",
    "    import warnings\n",
    "    warnings.filterwarnings(\"ignore\")\n",
    "    \n",
    "    if type(train_df) == pd.core.series.Series:\n",
    "        train_df = pd.DataFrame({train_df.name : train_df})\n",
    "    if type(valid_df) == pd.core.series.Series:\n",
    "        valid_df = pd.DataFrame({valid_df.name : valid_df})\n",
    "        \n",
    "    glob_mean = y_train.mean()\n",
    "    new_train_df = pd.concat([train_df, pd.Series(y_train, name=\"y\")], axis=1)\n",
    "    cat_features = new_train_df.columns[new_train_df.dtypes == \"object\"].tolist()\n",
    "\n",
    "    for col in cat_features:\n",
    "        new_train_df[col + \"_mean_target\"] = [\n",
    "            glob_mean for _ in range(new_train_df.shape[0])\n",
    "        ]\n",
    "    \n",
    "    for col in cat_features:\n",
    "        means = valid_df[col].map(new_train_df.groupby(col)[\"y\"].mean())\n",
    "        valid_df[col + \"_mean_target\"] = means.fillna(glob_mean)\n",
    "    valid_df.drop(cat_features, axis=1, inplace=True)\n",
    "   \n",
    "\n",
    "    for train_idx, valid_idx in skf.split(train_df, y_train):\n",
    "        train_df_cv, valid_df_cv = (\n",
    "            new_train_df.iloc[train_idx, :],\n",
    "            new_train_df.iloc[valid_idx, :],\n",
    "        )\n",
    "\n",
    "        for col in cat_features:\n",
    "            means = valid_df_cv[col].map(train_df_cv.groupby(col)[\"y\"].mean())\n",
    "            valid_df_cv[col + \"_mean_target\"] = means.fillna(glob_mean)\n",
    "\n",
    "        new_train_df.iloc[valid_idx] = valid_df_cv\n",
    "\n",
    "    new_train_df.drop(cat_features + [\"y\"], axis=1, inplace=True)\n",
    "    return new_train_df, valid_df"
   ]
  },
  {
   "cell_type": "code",
   "execution_count": 17,
   "id": "fd5dbb21",
   "metadata": {},
   "outputs": [],
   "source": [
    "# Кодируем с помощью Mean Target только один признак \"Route\".\n",
    "\n",
    "train_mean_target_part, valid_mean_target = mean_target_enc(\n",
    "    X_train_new_features_part[\"Route\"], y_train_new_features_part, X_valid_new_features_part[\"Route\"], skf\n",
    ")"
   ]
  },
  {
   "cell_type": "code",
   "execution_count": 18,
   "id": "2c2ebd5e",
   "metadata": {},
   "outputs": [],
   "source": [
    "# Заменяем исходный признак на наш видоизменённый признак.\n",
    "\n",
    "X_train_new_features_part[\"Route\"] = train_mean_target_part\n",
    "X_valid_new_features_part[\"Route\"] = valid_mean_target"
   ]
  },
  {
   "cell_type": "code",
   "execution_count": 19,
   "id": "2c8ea584",
   "metadata": {},
   "outputs": [
    {
     "data": {
      "text/plain": [
       "True"
      ]
     },
     "execution_count": 19,
     "metadata": {},
     "output_type": "execute_result"
    }
   ],
   "source": [
    "# Проверяем на всякий случай, если ничего не потеряли из признаков, или не добавили как-то.\n",
    "\n",
    "X_train_new_features_part.shape[1] == X_valid_new_features_part.shape[1] == counted_features"
   ]
  },
  {
   "cell_type": "code",
   "execution_count": 42,
   "id": "1955f611",
   "metadata": {},
   "outputs": [],
   "source": [
    "# Готовим параметры для первой модели \"GridSearchCV\" с XGBoost.\n",
    "\n",
    "params = {\"max_depth\": range(4,8), \"subsample\":[0.6,1], 'reg_lambda': [0.01, 0.1, 1, 10]}\n",
    "xgb_sklearn_model = XGBClassifier(n_estimators=50, learning_rate=0.2, objective=\"binary:logistic\", random_state=32)"
   ]
  },
  {
   "cell_type": "code",
   "execution_count": 27,
   "id": "9ae7a9a1",
   "metadata": {},
   "outputs": [],
   "source": [
    "grid_search_cv = GridSearchCV(xgb_sklearn_model, param_grid=params, cv=skf, n_jobs=-1)"
   ]
  },
  {
   "cell_type": "code",
   "execution_count": 28,
   "id": "95cea0dd",
   "metadata": {},
   "outputs": [
    {
     "name": "stdout",
     "output_type": "stream",
     "text": [
      "CPU times: total: 8min 32s\n",
      "Wall time: 37min 52s\n"
     ]
    },
    {
     "data": {
      "text/html": [
       "<style>#sk-container-id-1 {color: black;background-color: white;}#sk-container-id-1 pre{padding: 0;}#sk-container-id-1 div.sk-toggleable {background-color: white;}#sk-container-id-1 label.sk-toggleable__label {cursor: pointer;display: block;width: 100%;margin-bottom: 0;padding: 0.3em;box-sizing: border-box;text-align: center;}#sk-container-id-1 label.sk-toggleable__label-arrow:before {content: \"▸\";float: left;margin-right: 0.25em;color: #696969;}#sk-container-id-1 label.sk-toggleable__label-arrow:hover:before {color: black;}#sk-container-id-1 div.sk-estimator:hover label.sk-toggleable__label-arrow:before {color: black;}#sk-container-id-1 div.sk-toggleable__content {max-height: 0;max-width: 0;overflow: hidden;text-align: left;background-color: #f0f8ff;}#sk-container-id-1 div.sk-toggleable__content pre {margin: 0.2em;color: black;border-radius: 0.25em;background-color: #f0f8ff;}#sk-container-id-1 input.sk-toggleable__control:checked~div.sk-toggleable__content {max-height: 200px;max-width: 100%;overflow: auto;}#sk-container-id-1 input.sk-toggleable__control:checked~label.sk-toggleable__label-arrow:before {content: \"▾\";}#sk-container-id-1 div.sk-estimator input.sk-toggleable__control:checked~label.sk-toggleable__label {background-color: #d4ebff;}#sk-container-id-1 div.sk-label input.sk-toggleable__control:checked~label.sk-toggleable__label {background-color: #d4ebff;}#sk-container-id-1 input.sk-hidden--visually {border: 0;clip: rect(1px 1px 1px 1px);clip: rect(1px, 1px, 1px, 1px);height: 1px;margin: -1px;overflow: hidden;padding: 0;position: absolute;width: 1px;}#sk-container-id-1 div.sk-estimator {font-family: monospace;background-color: #f0f8ff;border: 1px dotted black;border-radius: 0.25em;box-sizing: border-box;margin-bottom: 0.5em;}#sk-container-id-1 div.sk-estimator:hover {background-color: #d4ebff;}#sk-container-id-1 div.sk-parallel-item::after {content: \"\";width: 100%;border-bottom: 1px solid gray;flex-grow: 1;}#sk-container-id-1 div.sk-label:hover label.sk-toggleable__label {background-color: #d4ebff;}#sk-container-id-1 div.sk-serial::before {content: \"\";position: absolute;border-left: 1px solid gray;box-sizing: border-box;top: 0;bottom: 0;left: 50%;z-index: 0;}#sk-container-id-1 div.sk-serial {display: flex;flex-direction: column;align-items: center;background-color: white;padding-right: 0.2em;padding-left: 0.2em;position: relative;}#sk-container-id-1 div.sk-item {position: relative;z-index: 1;}#sk-container-id-1 div.sk-parallel {display: flex;align-items: stretch;justify-content: center;background-color: white;position: relative;}#sk-container-id-1 div.sk-item::before, #sk-container-id-1 div.sk-parallel-item::before {content: \"\";position: absolute;border-left: 1px solid gray;box-sizing: border-box;top: 0;bottom: 0;left: 50%;z-index: -1;}#sk-container-id-1 div.sk-parallel-item {display: flex;flex-direction: column;z-index: 1;position: relative;background-color: white;}#sk-container-id-1 div.sk-parallel-item:first-child::after {align-self: flex-end;width: 50%;}#sk-container-id-1 div.sk-parallel-item:last-child::after {align-self: flex-start;width: 50%;}#sk-container-id-1 div.sk-parallel-item:only-child::after {width: 0;}#sk-container-id-1 div.sk-dashed-wrapped {border: 1px dashed gray;margin: 0 0.4em 0.5em 0.4em;box-sizing: border-box;padding-bottom: 0.4em;background-color: white;}#sk-container-id-1 div.sk-label label {font-family: monospace;font-weight: bold;display: inline-block;line-height: 1.2em;}#sk-container-id-1 div.sk-label-container {text-align: center;}#sk-container-id-1 div.sk-container {/* jupyter's `normalize.less` sets `[hidden] { display: none; }` but bootstrap.min.css set `[hidden] { display: none !important; }` so we also need the `!important` here to be able to override the default hidden behavior on the sphinx rendered scikit-learn.org. See: https://github.com/scikit-learn/scikit-learn/issues/21755 */display: inline-block !important;position: relative;}#sk-container-id-1 div.sk-text-repr-fallback {display: none;}</style><div id=\"sk-container-id-1\" class=\"sk-top-container\"><div class=\"sk-text-repr-fallback\"><pre>GridSearchCV(cv=StratifiedKFold(n_splits=5, random_state=32, shuffle=True),\n",
       "             estimator=XGBClassifier(base_score=None, booster=None,\n",
       "                                     callbacks=None, colsample_bylevel=None,\n",
       "                                     colsample_bynode=None,\n",
       "                                     colsample_bytree=None, device=None,\n",
       "                                     early_stopping_rounds=None,\n",
       "                                     enable_categorical=False, eval_metric=None,\n",
       "                                     feature_types=None, gamma=None,\n",
       "                                     grow_policy=None, importance_typ...\n",
       "                                     learning_rate=0.2, max_bin=None,\n",
       "                                     max_cat_threshold=None,\n",
       "                                     max_cat_to_onehot=None,\n",
       "                                     max_delta_step=None, max_depth=None,\n",
       "                                     max_leaves=None, min_child_weight=None,\n",
       "                                     missing=nan, monotone_constraints=None,\n",
       "                                     multi_strategy=None, n_estimators=50,\n",
       "                                     n_jobs=None, num_parallel_tree=None,\n",
       "                                     random_state=32, ...),\n",
       "             n_jobs=-1,\n",
       "             param_grid={&#x27;max_depth&#x27;: range(4, 8),\n",
       "                         &#x27;reg_lambda&#x27;: [0.01, 0.1, 1, 10],\n",
       "                         &#x27;subsample&#x27;: [0.6, 1]})</pre><b>In a Jupyter environment, please rerun this cell to show the HTML representation or trust the notebook. <br />On GitHub, the HTML representation is unable to render, please try loading this page with nbviewer.org.</b></div><div class=\"sk-container\" hidden><div class=\"sk-item sk-dashed-wrapped\"><div class=\"sk-label-container\"><div class=\"sk-label sk-toggleable\"><input class=\"sk-toggleable__control sk-hidden--visually\" id=\"sk-estimator-id-1\" type=\"checkbox\" ><label for=\"sk-estimator-id-1\" class=\"sk-toggleable__label sk-toggleable__label-arrow\">GridSearchCV</label><div class=\"sk-toggleable__content\"><pre>GridSearchCV(cv=StratifiedKFold(n_splits=5, random_state=32, shuffle=True),\n",
       "             estimator=XGBClassifier(base_score=None, booster=None,\n",
       "                                     callbacks=None, colsample_bylevel=None,\n",
       "                                     colsample_bynode=None,\n",
       "                                     colsample_bytree=None, device=None,\n",
       "                                     early_stopping_rounds=None,\n",
       "                                     enable_categorical=False, eval_metric=None,\n",
       "                                     feature_types=None, gamma=None,\n",
       "                                     grow_policy=None, importance_typ...\n",
       "                                     learning_rate=0.2, max_bin=None,\n",
       "                                     max_cat_threshold=None,\n",
       "                                     max_cat_to_onehot=None,\n",
       "                                     max_delta_step=None, max_depth=None,\n",
       "                                     max_leaves=None, min_child_weight=None,\n",
       "                                     missing=nan, monotone_constraints=None,\n",
       "                                     multi_strategy=None, n_estimators=50,\n",
       "                                     n_jobs=None, num_parallel_tree=None,\n",
       "                                     random_state=32, ...),\n",
       "             n_jobs=-1,\n",
       "             param_grid={&#x27;max_depth&#x27;: range(4, 8),\n",
       "                         &#x27;reg_lambda&#x27;: [0.01, 0.1, 1, 10],\n",
       "                         &#x27;subsample&#x27;: [0.6, 1]})</pre></div></div></div><div class=\"sk-parallel\"><div class=\"sk-parallel-item\"><div class=\"sk-item\"><div class=\"sk-label-container\"><div class=\"sk-label sk-toggleable\"><input class=\"sk-toggleable__control sk-hidden--visually\" id=\"sk-estimator-id-2\" type=\"checkbox\" ><label for=\"sk-estimator-id-2\" class=\"sk-toggleable__label sk-toggleable__label-arrow\">estimator: XGBClassifier</label><div class=\"sk-toggleable__content\"><pre>XGBClassifier(base_score=None, booster=None, callbacks=None,\n",
       "              colsample_bylevel=None, colsample_bynode=None,\n",
       "              colsample_bytree=None, device=None, early_stopping_rounds=None,\n",
       "              enable_categorical=False, eval_metric=None, feature_types=None,\n",
       "              gamma=None, grow_policy=None, importance_type=None,\n",
       "              interaction_constraints=None, learning_rate=0.2, max_bin=None,\n",
       "              max_cat_threshold=None, max_cat_to_onehot=None,\n",
       "              max_delta_step=None, max_depth=None, max_leaves=None,\n",
       "              min_child_weight=None, missing=nan, monotone_constraints=None,\n",
       "              multi_strategy=None, n_estimators=50, n_jobs=None,\n",
       "              num_parallel_tree=None, random_state=32, ...)</pre></div></div></div><div class=\"sk-serial\"><div class=\"sk-item\"><div class=\"sk-estimator sk-toggleable\"><input class=\"sk-toggleable__control sk-hidden--visually\" id=\"sk-estimator-id-3\" type=\"checkbox\" ><label for=\"sk-estimator-id-3\" class=\"sk-toggleable__label sk-toggleable__label-arrow\">XGBClassifier</label><div class=\"sk-toggleable__content\"><pre>XGBClassifier(base_score=None, booster=None, callbacks=None,\n",
       "              colsample_bylevel=None, colsample_bynode=None,\n",
       "              colsample_bytree=None, device=None, early_stopping_rounds=None,\n",
       "              enable_categorical=False, eval_metric=None, feature_types=None,\n",
       "              gamma=None, grow_policy=None, importance_type=None,\n",
       "              interaction_constraints=None, learning_rate=0.2, max_bin=None,\n",
       "              max_cat_threshold=None, max_cat_to_onehot=None,\n",
       "              max_delta_step=None, max_depth=None, max_leaves=None,\n",
       "              min_child_weight=None, missing=nan, monotone_constraints=None,\n",
       "              multi_strategy=None, n_estimators=50, n_jobs=None,\n",
       "              num_parallel_tree=None, random_state=32, ...)</pre></div></div></div></div></div></div></div></div></div></div>"
      ],
      "text/plain": [
       "GridSearchCV(cv=StratifiedKFold(n_splits=5, random_state=32, shuffle=True),\n",
       "             estimator=XGBClassifier(base_score=None, booster=None,\n",
       "                                     callbacks=None, colsample_bylevel=None,\n",
       "                                     colsample_bynode=None,\n",
       "                                     colsample_bytree=None, device=None,\n",
       "                                     early_stopping_rounds=None,\n",
       "                                     enable_categorical=False, eval_metric=None,\n",
       "                                     feature_types=None, gamma=None,\n",
       "                                     grow_policy=None, importance_typ...\n",
       "                                     learning_rate=0.2, max_bin=None,\n",
       "                                     max_cat_threshold=None,\n",
       "                                     max_cat_to_onehot=None,\n",
       "                                     max_delta_step=None, max_depth=None,\n",
       "                                     max_leaves=None, min_child_weight=None,\n",
       "                                     missing=nan, monotone_constraints=None,\n",
       "                                     multi_strategy=None, n_estimators=50,\n",
       "                                     n_jobs=None, num_parallel_tree=None,\n",
       "                                     random_state=32, ...),\n",
       "             n_jobs=-1,\n",
       "             param_grid={'max_depth': range(4, 8),\n",
       "                         'reg_lambda': [0.01, 0.1, 1, 10],\n",
       "                         'subsample': [0.6, 1]})"
      ]
     },
     "execution_count": 28,
     "metadata": {},
     "output_type": "execute_result"
    }
   ],
   "source": [
    "%%time\n",
    "grid_search_cv.fit(X_train_new_features_part, y_train_new_features_part)"
   ]
  },
  {
   "cell_type": "code",
   "execution_count": 29,
   "id": "deed2dcd",
   "metadata": {},
   "outputs": [
    {
     "data": {
      "text/plain": [
       "{'max_depth': 7, 'reg_lambda': 1, 'subsample': 1}"
      ]
     },
     "execution_count": 29,
     "metadata": {},
     "output_type": "execute_result"
    }
   ],
   "source": [
    "grid_search_cv.best_params_"
   ]
  },
  {
   "cell_type": "code",
   "execution_count": 31,
   "id": "2d8ceda5",
   "metadata": {},
   "outputs": [
    {
     "data": {
      "text/plain": [
       "0.731843033254146"
      ]
     },
     "execution_count": 31,
     "metadata": {},
     "output_type": "execute_result"
    }
   ],
   "source": [
    "predicted_xgb = grid_search_cv.best_estimator_.predict_proba(X_valid_new_features_part)\n",
    "roc_auc_score(y_valid_new_features_part, predicted_xgb[:,1])"
   ]
  },
  {
   "cell_type": "code",
   "execution_count": 35,
   "id": "67ae7d7b",
   "metadata": {},
   "outputs": [],
   "source": [
    "# Пробуем улучшить модель с помощью лучшего подбора регуляризатора\n",
    "\n",
    "params_2 = {'reg_lambda': [0.5, 2, 5]}\n",
    "xgb_sklearn_model_2 = XGBClassifier(n_estimators=50, learning_rate=0.2, objective=\"binary:logistic\", random_state=32\n",
    "                                 , max_depth=7, subsample=1)"
   ]
  },
  {
   "cell_type": "code",
   "execution_count": 36,
   "id": "d5b3ccdf",
   "metadata": {},
   "outputs": [],
   "source": [
    "grid_search_cv_2 = GridSearchCV(xgb_sklearn_model_2, param_grid=params_2, cv=skf, n_jobs=-1)"
   ]
  },
  {
   "cell_type": "code",
   "execution_count": 37,
   "id": "52001bf8",
   "metadata": {},
   "outputs": [
    {
     "name": "stdout",
     "output_type": "stream",
     "text": [
      "CPU times: total: 1min 36s\n",
      "Wall time: 3min 50s\n"
     ]
    },
    {
     "data": {
      "text/html": [
       "<style>#sk-container-id-2 {color: black;background-color: white;}#sk-container-id-2 pre{padding: 0;}#sk-container-id-2 div.sk-toggleable {background-color: white;}#sk-container-id-2 label.sk-toggleable__label {cursor: pointer;display: block;width: 100%;margin-bottom: 0;padding: 0.3em;box-sizing: border-box;text-align: center;}#sk-container-id-2 label.sk-toggleable__label-arrow:before {content: \"▸\";float: left;margin-right: 0.25em;color: #696969;}#sk-container-id-2 label.sk-toggleable__label-arrow:hover:before {color: black;}#sk-container-id-2 div.sk-estimator:hover label.sk-toggleable__label-arrow:before {color: black;}#sk-container-id-2 div.sk-toggleable__content {max-height: 0;max-width: 0;overflow: hidden;text-align: left;background-color: #f0f8ff;}#sk-container-id-2 div.sk-toggleable__content pre {margin: 0.2em;color: black;border-radius: 0.25em;background-color: #f0f8ff;}#sk-container-id-2 input.sk-toggleable__control:checked~div.sk-toggleable__content {max-height: 200px;max-width: 100%;overflow: auto;}#sk-container-id-2 input.sk-toggleable__control:checked~label.sk-toggleable__label-arrow:before {content: \"▾\";}#sk-container-id-2 div.sk-estimator input.sk-toggleable__control:checked~label.sk-toggleable__label {background-color: #d4ebff;}#sk-container-id-2 div.sk-label input.sk-toggleable__control:checked~label.sk-toggleable__label {background-color: #d4ebff;}#sk-container-id-2 input.sk-hidden--visually {border: 0;clip: rect(1px 1px 1px 1px);clip: rect(1px, 1px, 1px, 1px);height: 1px;margin: -1px;overflow: hidden;padding: 0;position: absolute;width: 1px;}#sk-container-id-2 div.sk-estimator {font-family: monospace;background-color: #f0f8ff;border: 1px dotted black;border-radius: 0.25em;box-sizing: border-box;margin-bottom: 0.5em;}#sk-container-id-2 div.sk-estimator:hover {background-color: #d4ebff;}#sk-container-id-2 div.sk-parallel-item::after {content: \"\";width: 100%;border-bottom: 1px solid gray;flex-grow: 1;}#sk-container-id-2 div.sk-label:hover label.sk-toggleable__label {background-color: #d4ebff;}#sk-container-id-2 div.sk-serial::before {content: \"\";position: absolute;border-left: 1px solid gray;box-sizing: border-box;top: 0;bottom: 0;left: 50%;z-index: 0;}#sk-container-id-2 div.sk-serial {display: flex;flex-direction: column;align-items: center;background-color: white;padding-right: 0.2em;padding-left: 0.2em;position: relative;}#sk-container-id-2 div.sk-item {position: relative;z-index: 1;}#sk-container-id-2 div.sk-parallel {display: flex;align-items: stretch;justify-content: center;background-color: white;position: relative;}#sk-container-id-2 div.sk-item::before, #sk-container-id-2 div.sk-parallel-item::before {content: \"\";position: absolute;border-left: 1px solid gray;box-sizing: border-box;top: 0;bottom: 0;left: 50%;z-index: -1;}#sk-container-id-2 div.sk-parallel-item {display: flex;flex-direction: column;z-index: 1;position: relative;background-color: white;}#sk-container-id-2 div.sk-parallel-item:first-child::after {align-self: flex-end;width: 50%;}#sk-container-id-2 div.sk-parallel-item:last-child::after {align-self: flex-start;width: 50%;}#sk-container-id-2 div.sk-parallel-item:only-child::after {width: 0;}#sk-container-id-2 div.sk-dashed-wrapped {border: 1px dashed gray;margin: 0 0.4em 0.5em 0.4em;box-sizing: border-box;padding-bottom: 0.4em;background-color: white;}#sk-container-id-2 div.sk-label label {font-family: monospace;font-weight: bold;display: inline-block;line-height: 1.2em;}#sk-container-id-2 div.sk-label-container {text-align: center;}#sk-container-id-2 div.sk-container {/* jupyter's `normalize.less` sets `[hidden] { display: none; }` but bootstrap.min.css set `[hidden] { display: none !important; }` so we also need the `!important` here to be able to override the default hidden behavior on the sphinx rendered scikit-learn.org. See: https://github.com/scikit-learn/scikit-learn/issues/21755 */display: inline-block !important;position: relative;}#sk-container-id-2 div.sk-text-repr-fallback {display: none;}</style><div id=\"sk-container-id-2\" class=\"sk-top-container\"><div class=\"sk-text-repr-fallback\"><pre>GridSearchCV(cv=StratifiedKFold(n_splits=5, random_state=32, shuffle=True),\n",
       "             estimator=XGBClassifier(base_score=None, booster=None,\n",
       "                                     callbacks=None, colsample_bylevel=None,\n",
       "                                     colsample_bynode=None,\n",
       "                                     colsample_bytree=None, device=None,\n",
       "                                     early_stopping_rounds=None,\n",
       "                                     enable_categorical=False, eval_metric=None,\n",
       "                                     feature_types=None, gamma=None,\n",
       "                                     grow_policy=None, importance_typ...\n",
       "                                     interaction_constraints=None,\n",
       "                                     learning_rate=0.2, max_bin=None,\n",
       "                                     max_cat_threshold=None,\n",
       "                                     max_cat_to_onehot=None,\n",
       "                                     max_delta_step=None, max_depth=7,\n",
       "                                     max_leaves=None, min_child_weight=None,\n",
       "                                     missing=nan, monotone_constraints=None,\n",
       "                                     multi_strategy=None, n_estimators=50,\n",
       "                                     n_jobs=None, num_parallel_tree=None,\n",
       "                                     random_state=32, ...),\n",
       "             n_jobs=-1, param_grid={&#x27;reg_lambda&#x27;: [0.5, 2, 5]})</pre><b>In a Jupyter environment, please rerun this cell to show the HTML representation or trust the notebook. <br />On GitHub, the HTML representation is unable to render, please try loading this page with nbviewer.org.</b></div><div class=\"sk-container\" hidden><div class=\"sk-item sk-dashed-wrapped\"><div class=\"sk-label-container\"><div class=\"sk-label sk-toggleable\"><input class=\"sk-toggleable__control sk-hidden--visually\" id=\"sk-estimator-id-4\" type=\"checkbox\" ><label for=\"sk-estimator-id-4\" class=\"sk-toggleable__label sk-toggleable__label-arrow\">GridSearchCV</label><div class=\"sk-toggleable__content\"><pre>GridSearchCV(cv=StratifiedKFold(n_splits=5, random_state=32, shuffle=True),\n",
       "             estimator=XGBClassifier(base_score=None, booster=None,\n",
       "                                     callbacks=None, colsample_bylevel=None,\n",
       "                                     colsample_bynode=None,\n",
       "                                     colsample_bytree=None, device=None,\n",
       "                                     early_stopping_rounds=None,\n",
       "                                     enable_categorical=False, eval_metric=None,\n",
       "                                     feature_types=None, gamma=None,\n",
       "                                     grow_policy=None, importance_typ...\n",
       "                                     interaction_constraints=None,\n",
       "                                     learning_rate=0.2, max_bin=None,\n",
       "                                     max_cat_threshold=None,\n",
       "                                     max_cat_to_onehot=None,\n",
       "                                     max_delta_step=None, max_depth=7,\n",
       "                                     max_leaves=None, min_child_weight=None,\n",
       "                                     missing=nan, monotone_constraints=None,\n",
       "                                     multi_strategy=None, n_estimators=50,\n",
       "                                     n_jobs=None, num_parallel_tree=None,\n",
       "                                     random_state=32, ...),\n",
       "             n_jobs=-1, param_grid={&#x27;reg_lambda&#x27;: [0.5, 2, 5]})</pre></div></div></div><div class=\"sk-parallel\"><div class=\"sk-parallel-item\"><div class=\"sk-item\"><div class=\"sk-label-container\"><div class=\"sk-label sk-toggleable\"><input class=\"sk-toggleable__control sk-hidden--visually\" id=\"sk-estimator-id-5\" type=\"checkbox\" ><label for=\"sk-estimator-id-5\" class=\"sk-toggleable__label sk-toggleable__label-arrow\">estimator: XGBClassifier</label><div class=\"sk-toggleable__content\"><pre>XGBClassifier(base_score=None, booster=None, callbacks=None,\n",
       "              colsample_bylevel=None, colsample_bynode=None,\n",
       "              colsample_bytree=None, device=None, early_stopping_rounds=None,\n",
       "              enable_categorical=False, eval_metric=None, feature_types=None,\n",
       "              gamma=None, grow_policy=None, importance_type=None,\n",
       "              interaction_constraints=None, learning_rate=0.2, max_bin=None,\n",
       "              max_cat_threshold=None, max_cat_to_onehot=None,\n",
       "              max_delta_step=None, max_depth=7, max_leaves=None,\n",
       "              min_child_weight=None, missing=nan, monotone_constraints=None,\n",
       "              multi_strategy=None, n_estimators=50, n_jobs=None,\n",
       "              num_parallel_tree=None, random_state=32, ...)</pre></div></div></div><div class=\"sk-serial\"><div class=\"sk-item\"><div class=\"sk-estimator sk-toggleable\"><input class=\"sk-toggleable__control sk-hidden--visually\" id=\"sk-estimator-id-6\" type=\"checkbox\" ><label for=\"sk-estimator-id-6\" class=\"sk-toggleable__label sk-toggleable__label-arrow\">XGBClassifier</label><div class=\"sk-toggleable__content\"><pre>XGBClassifier(base_score=None, booster=None, callbacks=None,\n",
       "              colsample_bylevel=None, colsample_bynode=None,\n",
       "              colsample_bytree=None, device=None, early_stopping_rounds=None,\n",
       "              enable_categorical=False, eval_metric=None, feature_types=None,\n",
       "              gamma=None, grow_policy=None, importance_type=None,\n",
       "              interaction_constraints=None, learning_rate=0.2, max_bin=None,\n",
       "              max_cat_threshold=None, max_cat_to_onehot=None,\n",
       "              max_delta_step=None, max_depth=7, max_leaves=None,\n",
       "              min_child_weight=None, missing=nan, monotone_constraints=None,\n",
       "              multi_strategy=None, n_estimators=50, n_jobs=None,\n",
       "              num_parallel_tree=None, random_state=32, ...)</pre></div></div></div></div></div></div></div></div></div></div>"
      ],
      "text/plain": [
       "GridSearchCV(cv=StratifiedKFold(n_splits=5, random_state=32, shuffle=True),\n",
       "             estimator=XGBClassifier(base_score=None, booster=None,\n",
       "                                     callbacks=None, colsample_bylevel=None,\n",
       "                                     colsample_bynode=None,\n",
       "                                     colsample_bytree=None, device=None,\n",
       "                                     early_stopping_rounds=None,\n",
       "                                     enable_categorical=False, eval_metric=None,\n",
       "                                     feature_types=None, gamma=None,\n",
       "                                     grow_policy=None, importance_typ...\n",
       "                                     interaction_constraints=None,\n",
       "                                     learning_rate=0.2, max_bin=None,\n",
       "                                     max_cat_threshold=None,\n",
       "                                     max_cat_to_onehot=None,\n",
       "                                     max_delta_step=None, max_depth=7,\n",
       "                                     max_leaves=None, min_child_weight=None,\n",
       "                                     missing=nan, monotone_constraints=None,\n",
       "                                     multi_strategy=None, n_estimators=50,\n",
       "                                     n_jobs=None, num_parallel_tree=None,\n",
       "                                     random_state=32, ...),\n",
       "             n_jobs=-1, param_grid={'reg_lambda': [0.5, 2, 5]})"
      ]
     },
     "execution_count": 37,
     "metadata": {},
     "output_type": "execute_result"
    }
   ],
   "source": [
    "%%time\n",
    "grid_search_cv_2.fit(X_train_new_features_part, y_train_new_features_part)"
   ]
  },
  {
   "cell_type": "code",
   "execution_count": 40,
   "id": "9821b0ed",
   "metadata": {},
   "outputs": [
    {
     "data": {
      "text/plain": [
       "{'reg_lambda': 2}"
      ]
     },
     "execution_count": 40,
     "metadata": {},
     "output_type": "execute_result"
    }
   ],
   "source": [
    "grid_search_cv_2.best_params_"
   ]
  },
  {
   "cell_type": "code",
   "execution_count": 41,
   "id": "c11f7e93",
   "metadata": {},
   "outputs": [
    {
     "data": {
      "text/plain": [
       "0.7335456582849105"
      ]
     },
     "execution_count": 41,
     "metadata": {},
     "output_type": "execute_result"
    }
   ],
   "source": [
    "predicted_xgb_2 = grid_search_cv_2.best_estimator_.predict_proba(X_valid_new_features_part)\n",
    "roc_auc_score(y_valid_new_features_part, predicted_xgb_2[:,1])"
   ]
  },
  {
   "cell_type": "markdown",
   "id": "39ae7f92",
   "metadata": {},
   "source": [
    "Видим что дальнейшая оптимизация регуляризатора не даёт сильного эффекта, пробуем подрезать наши деревья\n",
    "с помощью регуляризатора \"gamma\", и посмотрим какой эффект это действие даст."
   ]
  },
  {
   "cell_type": "code",
   "execution_count": 46,
   "id": "0aa265c6",
   "metadata": {},
   "outputs": [],
   "source": [
    "params_3 = {\"gamma\":[0.1,0.5,1,5,50]}\n",
    "xgb_sklearn_model_3 = XGBClassifier(n_estimators=50, learning_rate=0.2, objective=\"binary:logistic\", random_state=32\n",
    "                                 , max_depth=7, subsample=1, reg_lambda=2)"
   ]
  },
  {
   "cell_type": "code",
   "execution_count": 47,
   "id": "bf61de50",
   "metadata": {},
   "outputs": [],
   "source": [
    "grid_search_cv_3 = GridSearchCV(xgb_sklearn_model_3, param_grid=params_3, cv=skf, n_jobs=-1)"
   ]
  },
  {
   "cell_type": "code",
   "execution_count": 48,
   "id": "c9211a7e",
   "metadata": {
    "scrolled": true
   },
   "outputs": [
    {
     "name": "stdout",
     "output_type": "stream",
     "text": [
      "CPU times: total: 2min 4s\n",
      "Wall time: 5min 31s\n"
     ]
    },
    {
     "data": {
      "text/html": [
       "<style>#sk-container-id-4 {color: black;background-color: white;}#sk-container-id-4 pre{padding: 0;}#sk-container-id-4 div.sk-toggleable {background-color: white;}#sk-container-id-4 label.sk-toggleable__label {cursor: pointer;display: block;width: 100%;margin-bottom: 0;padding: 0.3em;box-sizing: border-box;text-align: center;}#sk-container-id-4 label.sk-toggleable__label-arrow:before {content: \"▸\";float: left;margin-right: 0.25em;color: #696969;}#sk-container-id-4 label.sk-toggleable__label-arrow:hover:before {color: black;}#sk-container-id-4 div.sk-estimator:hover label.sk-toggleable__label-arrow:before {color: black;}#sk-container-id-4 div.sk-toggleable__content {max-height: 0;max-width: 0;overflow: hidden;text-align: left;background-color: #f0f8ff;}#sk-container-id-4 div.sk-toggleable__content pre {margin: 0.2em;color: black;border-radius: 0.25em;background-color: #f0f8ff;}#sk-container-id-4 input.sk-toggleable__control:checked~div.sk-toggleable__content {max-height: 200px;max-width: 100%;overflow: auto;}#sk-container-id-4 input.sk-toggleable__control:checked~label.sk-toggleable__label-arrow:before {content: \"▾\";}#sk-container-id-4 div.sk-estimator input.sk-toggleable__control:checked~label.sk-toggleable__label {background-color: #d4ebff;}#sk-container-id-4 div.sk-label input.sk-toggleable__control:checked~label.sk-toggleable__label {background-color: #d4ebff;}#sk-container-id-4 input.sk-hidden--visually {border: 0;clip: rect(1px 1px 1px 1px);clip: rect(1px, 1px, 1px, 1px);height: 1px;margin: -1px;overflow: hidden;padding: 0;position: absolute;width: 1px;}#sk-container-id-4 div.sk-estimator {font-family: monospace;background-color: #f0f8ff;border: 1px dotted black;border-radius: 0.25em;box-sizing: border-box;margin-bottom: 0.5em;}#sk-container-id-4 div.sk-estimator:hover {background-color: #d4ebff;}#sk-container-id-4 div.sk-parallel-item::after {content: \"\";width: 100%;border-bottom: 1px solid gray;flex-grow: 1;}#sk-container-id-4 div.sk-label:hover label.sk-toggleable__label {background-color: #d4ebff;}#sk-container-id-4 div.sk-serial::before {content: \"\";position: absolute;border-left: 1px solid gray;box-sizing: border-box;top: 0;bottom: 0;left: 50%;z-index: 0;}#sk-container-id-4 div.sk-serial {display: flex;flex-direction: column;align-items: center;background-color: white;padding-right: 0.2em;padding-left: 0.2em;position: relative;}#sk-container-id-4 div.sk-item {position: relative;z-index: 1;}#sk-container-id-4 div.sk-parallel {display: flex;align-items: stretch;justify-content: center;background-color: white;position: relative;}#sk-container-id-4 div.sk-item::before, #sk-container-id-4 div.sk-parallel-item::before {content: \"\";position: absolute;border-left: 1px solid gray;box-sizing: border-box;top: 0;bottom: 0;left: 50%;z-index: -1;}#sk-container-id-4 div.sk-parallel-item {display: flex;flex-direction: column;z-index: 1;position: relative;background-color: white;}#sk-container-id-4 div.sk-parallel-item:first-child::after {align-self: flex-end;width: 50%;}#sk-container-id-4 div.sk-parallel-item:last-child::after {align-self: flex-start;width: 50%;}#sk-container-id-4 div.sk-parallel-item:only-child::after {width: 0;}#sk-container-id-4 div.sk-dashed-wrapped {border: 1px dashed gray;margin: 0 0.4em 0.5em 0.4em;box-sizing: border-box;padding-bottom: 0.4em;background-color: white;}#sk-container-id-4 div.sk-label label {font-family: monospace;font-weight: bold;display: inline-block;line-height: 1.2em;}#sk-container-id-4 div.sk-label-container {text-align: center;}#sk-container-id-4 div.sk-container {/* jupyter's `normalize.less` sets `[hidden] { display: none; }` but bootstrap.min.css set `[hidden] { display: none !important; }` so we also need the `!important` here to be able to override the default hidden behavior on the sphinx rendered scikit-learn.org. See: https://github.com/scikit-learn/scikit-learn/issues/21755 */display: inline-block !important;position: relative;}#sk-container-id-4 div.sk-text-repr-fallback {display: none;}</style><div id=\"sk-container-id-4\" class=\"sk-top-container\"><div class=\"sk-text-repr-fallback\"><pre>GridSearchCV(cv=StratifiedKFold(n_splits=5, random_state=32, shuffle=True),\n",
       "             estimator=XGBClassifier(base_score=None, booster=None,\n",
       "                                     callbacks=None, colsample_bylevel=None,\n",
       "                                     colsample_bynode=None,\n",
       "                                     colsample_bytree=None, device=None,\n",
       "                                     early_stopping_rounds=None,\n",
       "                                     enable_categorical=False, eval_metric=None,\n",
       "                                     feature_types=None, gamma=None,\n",
       "                                     grow_policy=None, importance_typ...\n",
       "                                     interaction_constraints=None,\n",
       "                                     learning_rate=0.2, max_bin=None,\n",
       "                                     max_cat_threshold=None,\n",
       "                                     max_cat_to_onehot=None,\n",
       "                                     max_delta_step=None, max_depth=7,\n",
       "                                     max_leaves=None, min_child_weight=None,\n",
       "                                     missing=nan, monotone_constraints=None,\n",
       "                                     multi_strategy=None, n_estimators=50,\n",
       "                                     n_jobs=None, num_parallel_tree=None,\n",
       "                                     random_state=32, ...),\n",
       "             n_jobs=-1, param_grid={&#x27;gamma&#x27;: [0.1, 0.5, 1, 5, 50]})</pre><b>In a Jupyter environment, please rerun this cell to show the HTML representation or trust the notebook. <br />On GitHub, the HTML representation is unable to render, please try loading this page with nbviewer.org.</b></div><div class=\"sk-container\" hidden><div class=\"sk-item sk-dashed-wrapped\"><div class=\"sk-label-container\"><div class=\"sk-label sk-toggleable\"><input class=\"sk-toggleable__control sk-hidden--visually\" id=\"sk-estimator-id-8\" type=\"checkbox\" ><label for=\"sk-estimator-id-8\" class=\"sk-toggleable__label sk-toggleable__label-arrow\">GridSearchCV</label><div class=\"sk-toggleable__content\"><pre>GridSearchCV(cv=StratifiedKFold(n_splits=5, random_state=32, shuffle=True),\n",
       "             estimator=XGBClassifier(base_score=None, booster=None,\n",
       "                                     callbacks=None, colsample_bylevel=None,\n",
       "                                     colsample_bynode=None,\n",
       "                                     colsample_bytree=None, device=None,\n",
       "                                     early_stopping_rounds=None,\n",
       "                                     enable_categorical=False, eval_metric=None,\n",
       "                                     feature_types=None, gamma=None,\n",
       "                                     grow_policy=None, importance_typ...\n",
       "                                     interaction_constraints=None,\n",
       "                                     learning_rate=0.2, max_bin=None,\n",
       "                                     max_cat_threshold=None,\n",
       "                                     max_cat_to_onehot=None,\n",
       "                                     max_delta_step=None, max_depth=7,\n",
       "                                     max_leaves=None, min_child_weight=None,\n",
       "                                     missing=nan, monotone_constraints=None,\n",
       "                                     multi_strategy=None, n_estimators=50,\n",
       "                                     n_jobs=None, num_parallel_tree=None,\n",
       "                                     random_state=32, ...),\n",
       "             n_jobs=-1, param_grid={&#x27;gamma&#x27;: [0.1, 0.5, 1, 5, 50]})</pre></div></div></div><div class=\"sk-parallel\"><div class=\"sk-parallel-item\"><div class=\"sk-item\"><div class=\"sk-label-container\"><div class=\"sk-label sk-toggleable\"><input class=\"sk-toggleable__control sk-hidden--visually\" id=\"sk-estimator-id-9\" type=\"checkbox\" ><label for=\"sk-estimator-id-9\" class=\"sk-toggleable__label sk-toggleable__label-arrow\">estimator: XGBClassifier</label><div class=\"sk-toggleable__content\"><pre>XGBClassifier(base_score=None, booster=None, callbacks=None,\n",
       "              colsample_bylevel=None, colsample_bynode=None,\n",
       "              colsample_bytree=None, device=None, early_stopping_rounds=None,\n",
       "              enable_categorical=False, eval_metric=None, feature_types=None,\n",
       "              gamma=None, grow_policy=None, importance_type=None,\n",
       "              interaction_constraints=None, learning_rate=0.2, max_bin=None,\n",
       "              max_cat_threshold=None, max_cat_to_onehot=None,\n",
       "              max_delta_step=None, max_depth=7, max_leaves=None,\n",
       "              min_child_weight=None, missing=nan, monotone_constraints=None,\n",
       "              multi_strategy=None, n_estimators=50, n_jobs=None,\n",
       "              num_parallel_tree=None, random_state=32, ...)</pre></div></div></div><div class=\"sk-serial\"><div class=\"sk-item\"><div class=\"sk-estimator sk-toggleable\"><input class=\"sk-toggleable__control sk-hidden--visually\" id=\"sk-estimator-id-10\" type=\"checkbox\" ><label for=\"sk-estimator-id-10\" class=\"sk-toggleable__label sk-toggleable__label-arrow\">XGBClassifier</label><div class=\"sk-toggleable__content\"><pre>XGBClassifier(base_score=None, booster=None, callbacks=None,\n",
       "              colsample_bylevel=None, colsample_bynode=None,\n",
       "              colsample_bytree=None, device=None, early_stopping_rounds=None,\n",
       "              enable_categorical=False, eval_metric=None, feature_types=None,\n",
       "              gamma=None, grow_policy=None, importance_type=None,\n",
       "              interaction_constraints=None, learning_rate=0.2, max_bin=None,\n",
       "              max_cat_threshold=None, max_cat_to_onehot=None,\n",
       "              max_delta_step=None, max_depth=7, max_leaves=None,\n",
       "              min_child_weight=None, missing=nan, monotone_constraints=None,\n",
       "              multi_strategy=None, n_estimators=50, n_jobs=None,\n",
       "              num_parallel_tree=None, random_state=32, ...)</pre></div></div></div></div></div></div></div></div></div></div>"
      ],
      "text/plain": [
       "GridSearchCV(cv=StratifiedKFold(n_splits=5, random_state=32, shuffle=True),\n",
       "             estimator=XGBClassifier(base_score=None, booster=None,\n",
       "                                     callbacks=None, colsample_bylevel=None,\n",
       "                                     colsample_bynode=None,\n",
       "                                     colsample_bytree=None, device=None,\n",
       "                                     early_stopping_rounds=None,\n",
       "                                     enable_categorical=False, eval_metric=None,\n",
       "                                     feature_types=None, gamma=None,\n",
       "                                     grow_policy=None, importance_typ...\n",
       "                                     interaction_constraints=None,\n",
       "                                     learning_rate=0.2, max_bin=None,\n",
       "                                     max_cat_threshold=None,\n",
       "                                     max_cat_to_onehot=None,\n",
       "                                     max_delta_step=None, max_depth=7,\n",
       "                                     max_leaves=None, min_child_weight=None,\n",
       "                                     missing=nan, monotone_constraints=None,\n",
       "                                     multi_strategy=None, n_estimators=50,\n",
       "                                     n_jobs=None, num_parallel_tree=None,\n",
       "                                     random_state=32, ...),\n",
       "             n_jobs=-1, param_grid={'gamma': [0.1, 0.5, 1, 5, 50]})"
      ]
     },
     "execution_count": 48,
     "metadata": {},
     "output_type": "execute_result"
    }
   ],
   "source": [
    "%%time\n",
    "grid_search_cv_3.fit(X_train_new_features_part, y_train_new_features_part)"
   ]
  },
  {
   "cell_type": "code",
   "execution_count": 49,
   "id": "acd80adc",
   "metadata": {},
   "outputs": [
    {
     "data": {
      "text/plain": [
       "{'gamma': 1}"
      ]
     },
     "execution_count": 49,
     "metadata": {},
     "output_type": "execute_result"
    }
   ],
   "source": [
    "grid_search_cv_3.best_params_"
   ]
  },
  {
   "cell_type": "code",
   "execution_count": 50,
   "id": "df0d1a07",
   "metadata": {},
   "outputs": [
    {
     "data": {
      "text/plain": [
       "0.7341797877676839"
      ]
     },
     "execution_count": 50,
     "metadata": {},
     "output_type": "execute_result"
    }
   ],
   "source": [
    "predicted_xgb_3 = grid_search_cv_3.best_estimator_.predict_proba(X_valid_new_features_part)\n",
    "roc_auc_score(y_valid_new_features_part, predicted_xgb_3[:,1])"
   ]
  },
  {
   "cell_type": "code",
   "execution_count": 43,
   "id": "ec3efb4b",
   "metadata": {},
   "outputs": [],
   "source": [
    "# Итоговые параметры после поисков оптимальных вариантов на \"XGBClassifier\".\n",
    "# (n_estimators=50, learning_rate=0.2) ещё нужно оптимизировать\n",
    "\n",
    "xgb_sklearn_model_final = XGBClassifier(n_estimators=50, learning_rate=0.2, objective=\"binary:logistic\", random_state=32\n",
    "                                 , max_depth=7, subsample=1, reg_lambda=2, gamma=1)"
   ]
  },
  {
   "cell_type": "code",
   "execution_count": 20,
   "id": "cecdd287",
   "metadata": {},
   "outputs": [],
   "source": [
    "params_xgb = {\n",
    "    \"booster\": \"gbtree\",\n",
    "    \"max_depth\": 7,\n",
    "    \"eta\": 0.1,\n",
    "    \"silent\": 1,\n",
    "    \"objective\": \"binary:logistic\",\n",
    "    \"nthread\": 2,\n",
    "    \"gamma\" : 1,\n",
    "    \"lambda\" : 2,\n",
    "    \"eval_metric\":\"auc\",\n",
    "    \"seed\":32\n",
    "}\n",
    "evals_result = {}\n",
    "dtrain = xgb.DMatrix(X_train_new_features_part, y_train_new_features_part)\n",
    "dvalid = xgb.DMatrix(X_valid_new_features_part, y_valid_new_features_part)\n",
    "\n",
    "# По последним данным из списка будет срабатывать 'early_stopping_rounds', ставим 'valid', чтоб избежать переобучения.\n",
    "watchlist = [(dtrain, \"train\"), (dvalid, \"valid\")]"
   ]
  },
  {
   "cell_type": "code",
   "execution_count": 22,
   "id": "a62f6fea",
   "metadata": {},
   "outputs": [
    {
     "name": "stdout",
     "output_type": "stream",
     "text": [
      "[0]\ttrain-auc:0.71620\tvalid-auc:0.70089\n",
      "[100]\ttrain-auc:0.80296\tvalid-auc:0.73482\n",
      "[200]\ttrain-auc:0.82688\tvalid-auc:0.73759\n",
      "[300]\ttrain-auc:0.82835\tvalid-auc:0.73781\n",
      "[303]\ttrain-auc:0.82835\tvalid-auc:0.73781\n",
      "CPU times: total: 2min 5s\n",
      "Wall time: 1min 4s\n"
     ]
    }
   ],
   "source": [
    "%%time\n",
    "# Ищем оптимальное количество итераций для XGBoost, чтоб оставить меньше шансов для переобучения.\n",
    "# И для оптимизации работы алгоритма.\n",
    "\n",
    "xgb_final = xgb.train(params_xgb, dtrain, num_boost_round=1500, evals = watchlist, \n",
    "                      evals_result = evals_result, early_stopping_rounds = 100, verbose_eval=100)"
   ]
  },
  {
   "cell_type": "code",
   "execution_count": 23,
   "id": "99af9d69",
   "metadata": {},
   "outputs": [
    {
     "data": {
      "text/plain": [
       "203"
      ]
     },
     "execution_count": 23,
     "metadata": {},
     "output_type": "execute_result"
    }
   ],
   "source": [
    "xgb_best_iteration = xgb_final.best_iteration\n",
    "xgb_best_iteration"
   ]
  },
  {
   "cell_type": "code",
   "execution_count": 24,
   "id": "0a9893db",
   "metadata": {},
   "outputs": [
    {
     "data": {
      "text/plain": [
       "0.7378422023738229"
      ]
     },
     "execution_count": 24,
     "metadata": {},
     "output_type": "execute_result"
    }
   ],
   "source": [
    "evals_result['valid']['auc'][xgb_best_iteration]"
   ]
  },
  {
   "cell_type": "code",
   "execution_count": 87,
   "id": "ada222a9",
   "metadata": {},
   "outputs": [
    {
     "data": {
      "image/png": "[encoded data removed]",
      "text/plain": [
       "<Figure size 640x480 with 1 Axes>"
      ]
     },
     "metadata": {},
     "output_type": "display_data"
    }
   ],
   "source": [
    "# Строим валидационные кривые, чтоб посмотреть на процесс обучения на train и на test\n",
    "\n",
    "plt.plot(evals_result['valid']['auc'], label=\"valid\")\n",
    "plt.plot(evals_result['train']['auc'], label=\"train\")\n",
    "plt.legend(loc=\"best\")\n",
    "plt.xlabel('Number iteration')\n",
    "plt.ylabel('AUC')\n",
    "plt.title('Validation curves')\n",
    "plt.show()"
   ]
  },
  {
   "cell_type": "code",
   "execution_count": 26,
   "id": "59d7b72d",
   "metadata": {},
   "outputs": [
    {
     "name": "stdout",
     "output_type": "stream",
     "text": [
      "Learning rate set to 0.063211\n",
      "0:\tlearn: 0.6607142\ttotal: 279ms\tremaining: 4m 38s\n",
      "100:\tlearn: 0.4249974\ttotal: 20.6s\tremaining: 3m 3s\n",
      "200:\tlearn: 0.4167547\ttotal: 42.6s\tremaining: 2m 49s\n",
      "300:\tlearn: 0.4107562\ttotal: 1m 5s\tremaining: 2m 32s\n",
      "400:\tlearn: 0.4066072\ttotal: 1m 28s\tremaining: 2m 12s\n",
      "500:\tlearn: 0.4026717\ttotal: 1m 51s\tremaining: 1m 51s\n",
      "600:\tlearn: 0.3990550\ttotal: 2m 15s\tremaining: 1m 30s\n",
      "700:\tlearn: 0.3958905\ttotal: 2m 40s\tremaining: 1m 8s\n",
      "800:\tlearn: 0.3928478\ttotal: 3m 4s\tremaining: 45.8s\n",
      "900:\tlearn: 0.3895698\ttotal: 3m 28s\tremaining: 22.9s\n",
      "999:\tlearn: 0.3864095\ttotal: 3m 54s\tremaining: 0us\n",
      "CPU times: total: 14min 2s\n",
      "Wall time: 3min 56s\n"
     ]
    },
    {
     "data": {
      "text/plain": [
       "<catboost.core.CatBoostClassifier at 0x18dc306abc0>"
      ]
     },
     "execution_count": 26,
     "metadata": {},
     "output_type": "execute_result"
    }
   ],
   "source": [
    "%%time\n",
    "# Пробуем использовать алгоритм catboost с параметрами по умолчанию, и без нашего нового признака \"Route\"\n",
    "\n",
    "(X_train_new_features_cat_part, X_valid_new_features_cat_part, \n",
    " y_train_new_features_cat_part, y_valid_new_features_cat_part) = train_test_split(\n",
    "    X_train_new_features_cat.drop([\"dep_delayed_15min\",\"Route\"], axis=1),\n",
    "    y_train_new_features,\n",
    "    test_size=0.3,\n",
    "    stratify=y_train_new_features,\n",
    "    random_state=32\n",
    ")\n",
    "\n",
    "ctb = CatBoostClassifier(random_seed=32)\n",
    "cat_features_idx = np.where(X_train_new_features_cat_part.dtypes == \"object\")[0].tolist()\n",
    "ctb.fit(X_train_new_features_cat_part, y_train_new_features_cat_part, cat_features=cat_features_idx, metric_period=100)"
   ]
  },
  {
   "cell_type": "code",
   "execution_count": 27,
   "id": "9dc2b9e6",
   "metadata": {},
   "outputs": [
    {
     "data": {
      "text/plain": [
       "0.7603582548157578"
      ]
     },
     "execution_count": 27,
     "metadata": {},
     "output_type": "execute_result"
    }
   ],
   "source": [
    "# Видим что catboost с параметрами с коробки справляется лучше чем XGBoost, но время на обучение занимает больше,\n",
    "# из-за большего количества итераций.\n",
    "\n",
    "roc_auc_score(y_valid_new_features_cat_part, ctb.predict_proba(X_valid_new_features_cat_part)[:, 1])"
   ]
  },
  {
   "cell_type": "code",
   "execution_count": 28,
   "id": "563f17cf",
   "metadata": {},
   "outputs": [
    {
     "name": "stdout",
     "output_type": "stream",
     "text": [
      "Learning rate set to 0.063211\n",
      "0:\tlearn: 0.6594570\ttotal: 202ms\tremaining: 3m 21s\n",
      "100:\tlearn: 0.4321837\ttotal: 16.2s\tremaining: 2m 24s\n",
      "200:\tlearn: 0.4225817\ttotal: 32.8s\tremaining: 2m 10s\n",
      "300:\tlearn: 0.4147692\ttotal: 47.7s\tremaining: 1m 50s\n",
      "400:\tlearn: 0.4086934\ttotal: 1m 4s\tremaining: 1m 35s\n",
      "500:\tlearn: 0.4036688\ttotal: 1m 20s\tremaining: 1m 20s\n",
      "600:\tlearn: 0.3992972\ttotal: 1m 36s\tremaining: 1m 4s\n",
      "700:\tlearn: 0.3951839\ttotal: 1m 53s\tremaining: 48.5s\n",
      "800:\tlearn: 0.3913214\ttotal: 2m 10s\tremaining: 32.3s\n",
      "900:\tlearn: 0.3877310\ttotal: 2m 28s\tremaining: 16.3s\n",
      "999:\tlearn: 0.3844155\ttotal: 2m 47s\tremaining: 0us\n",
      "CPU times: total: 8min 18s\n",
      "Wall time: 2min 54s\n"
     ]
    },
    {
     "data": {
      "text/plain": [
       "<catboost.core.CatBoostClassifier at 0x18d852a7a00>"
      ]
     },
     "execution_count": 28,
     "metadata": {},
     "output_type": "execute_result"
    }
   ],
   "source": [
    "%%time\n",
    "# Пробуем теперь с нашим новым параметром \"Route\", и при этом меняем только его через параметр \"cat_features\".\n",
    "\n",
    "(X_train_new_features_cat_part_2, X_valid_new_features_cat_part_2, \n",
    "y_train_new_features_cat_part_2, y_valid_new_features_cat_part_2) = train_test_split(\n",
    "    X_train_new_features.drop(\"dep_delayed_15min\", axis=1),\n",
    "    y_train_new_features,\n",
    "    test_size=0.3,\n",
    "    stratify=y_train_new_features,\n",
    "    random_state=32\n",
    ")\n",
    "ctb_2 = CatBoostClassifier(random_seed=32)\n",
    "cat_features_idx_2 = np.where(X_train_new_features_cat_part_2.columns == \"Route\")[0].tolist()\n",
    "ctb_2.fit(X_train_new_features_cat_part_2, y_train_new_features_cat_part_2, \n",
    "          cat_features=cat_features_idx_2, metric_period=100)"
   ]
  },
  {
   "cell_type": "code",
   "execution_count": 155,
   "id": "bd347954",
   "metadata": {},
   "outputs": [
    {
     "data": {
      "text/plain": [
       "0.7451408769385925"
      ]
     },
     "execution_count": 155,
     "metadata": {},
     "output_type": "execute_result"
    }
   ],
   "source": [
    "# Стало хуже\n",
    "roc_auc_score(y_valid_new_features_cat_part_2, ctb_2.predict_proba(X_valid_new_features_cat_part_2)[:, 1])"
   ]
  },
  {
   "cell_type": "code",
   "execution_count": 29,
   "id": "c0485b56",
   "metadata": {},
   "outputs": [
    {
     "name": "stdout",
     "output_type": "stream",
     "text": [
      "Learning rate set to 0.063211\n",
      "0:\tlearn: 0.6619017\ttotal: 94.3ms\tremaining: 1m 34s\n",
      "100:\tlearn: 0.4241715\ttotal: 25.6s\tremaining: 3m 47s\n",
      "200:\tlearn: 0.4163148\ttotal: 52.8s\tremaining: 3m 30s\n",
      "300:\tlearn: 0.4102121\ttotal: 1m 21s\tremaining: 3m 9s\n",
      "400:\tlearn: 0.4057188\ttotal: 1m 51s\tremaining: 2m 47s\n",
      "500:\tlearn: 0.4015315\ttotal: 2m 22s\tremaining: 2m 22s\n",
      "600:\tlearn: 0.3979327\ttotal: 2m 53s\tremaining: 1m 55s\n",
      "700:\tlearn: 0.3945390\ttotal: 3m 25s\tremaining: 1m 27s\n",
      "800:\tlearn: 0.3912524\ttotal: 3m 58s\tremaining: 59.2s\n",
      "900:\tlearn: 0.3880815\ttotal: 4m 29s\tremaining: 29.6s\n",
      "999:\tlearn: 0.3851016\ttotal: 5m\tremaining: 0us\n",
      "CPU times: total: 17min 54s\n",
      "Wall time: 5min 3s\n"
     ]
    },
    {
     "data": {
      "text/plain": [
       "<catboost.core.CatBoostClassifier at 0x18dc3055ff0>"
      ]
     },
     "execution_count": 29,
     "metadata": {},
     "output_type": "execute_result"
    }
   ],
   "source": [
    "%%time\n",
    "# Теперь пробуем вместе с \"Route\" и при этом все категориальные признаки пропустить через параметр \"cat_features\".\n",
    "\n",
    "(X_train_new_features_cat_part_3, X_valid_new_features_cat_part_3, \n",
    "y_train_new_features_cat_part_3, y_valid_new_features_cat_part_3) = train_test_split(\n",
    "    X_train_new_features_cat.drop(\"dep_delayed_15min\", axis=1),\n",
    "    y_train_new_features,\n",
    "    test_size=0.3,\n",
    "    stratify=y_train_new_features,\n",
    "    random_state=32\n",
    ")\n",
    "\n",
    "ctb_3 = CatBoostClassifier(random_seed=32)\n",
    "cat_features_idx_3 = np.where(X_train_new_features_cat_part_3.dtypes == \"object\")[0].tolist()\n",
    "ctb_3.fit(X_train_new_features_cat_part_3, y_train_new_features_cat_part_3, \n",
    "          cat_features=cat_features_idx_3, metric_period=100)"
   ]
  },
  {
   "cell_type": "code",
   "execution_count": 30,
   "id": "7dba2825",
   "metadata": {},
   "outputs": [
    {
     "data": {
      "text/plain": [
       "0.762890080910112"
      ]
     },
     "execution_count": 30,
     "metadata": {},
     "output_type": "execute_result"
    }
   ],
   "source": [
    "# Пока лучший результат.\n",
    "roc_auc_score(y_valid_new_features_cat_part_3, ctb_3.predict_proba(X_valid_new_features_cat_part_3)[:, 1])"
   ]
  },
  {
   "cell_type": "code",
   "execution_count": 68,
   "id": "d6908caf",
   "metadata": {
    "scrolled": true
   },
   "outputs": [
    {
     "data": {
      "text/html": [
       "<div>\n",
       "<style scoped>\n",
       "    .dataframe tbody tr th:only-of-type {\n",
       "        vertical-align: middle;\n",
       "    }\n",
       "\n",
       "    .dataframe tbody tr th {\n",
       "        vertical-align: top;\n",
       "    }\n",
       "\n",
       "    .dataframe thead th {\n",
       "        text-align: right;\n",
       "    }\n",
       "</style>\n",
       "<table border=\"1\" class=\"dataframe\">\n",
       "  <thead>\n",
       "    <tr style=\"text-align: right;\">\n",
       "      <th></th>\n",
       "      <th>feature_importances</th>\n",
       "    </tr>\n",
       "  </thead>\n",
       "  <tbody>\n",
       "    <tr>\n",
       "      <th>DepTime</th>\n",
       "      <td>40.036483</td>\n",
       "    </tr>\n",
       "    <tr>\n",
       "      <th>UniqueCarrier</th>\n",
       "      <td>10.706679</td>\n",
       "    </tr>\n",
       "    <tr>\n",
       "      <th>Dest</th>\n",
       "      <td>8.282542</td>\n",
       "    </tr>\n",
       "    <tr>\n",
       "      <th>Origin</th>\n",
       "      <td>7.976791</td>\n",
       "    </tr>\n",
       "    <tr>\n",
       "      <th>Month</th>\n",
       "      <td>7.627197</td>\n",
       "    </tr>\n",
       "    <tr>\n",
       "      <th>Distance</th>\n",
       "      <td>7.178618</td>\n",
       "    </tr>\n",
       "    <tr>\n",
       "      <th>DayofMonth</th>\n",
       "      <td>6.699023</td>\n",
       "    </tr>\n",
       "    <tr>\n",
       "      <th>Route</th>\n",
       "      <td>5.944334</td>\n",
       "    </tr>\n",
       "    <tr>\n",
       "      <th>DayOfWeek</th>\n",
       "      <td>5.548331</td>\n",
       "    </tr>\n",
       "  </tbody>\n",
       "</table>\n",
       "</div>"
      ],
      "text/plain": [
       "               feature_importances\n",
       "DepTime                  40.036483\n",
       "UniqueCarrier            10.706679\n",
       "Dest                      8.282542\n",
       "Origin                    7.976791\n",
       "Month                     7.627197\n",
       "Distance                  7.178618\n",
       "DayofMonth                6.699023\n",
       "Route                     5.944334\n",
       "DayOfWeek                 5.548331"
      ]
     },
     "execution_count": 68,
     "metadata": {},
     "output_type": "execute_result"
    }
   ],
   "source": [
    "ctb_3_feature_importances = pd.DataFrame(ctb_3.feature_importances_, index=ctb_3.feature_names_, \n",
    "                                         columns=['feature_importances']).sort_values('feature_importances', \n",
    "                                                                                      ascending=False)\n",
    "ctb_3_feature_importances"
   ]
  },
  {
   "cell_type": "code",
   "execution_count": 113,
   "id": "ca90355e",
   "metadata": {},
   "outputs": [
    {
     "data": {
      "image/png": "[encoded data removed]",
      "text/plain": [
       "<Figure size 300x300 with 1 Axes>"
      ]
     },
     "metadata": {},
     "output_type": "display_data"
    },
    {
     "data": {
      "text/plain": [
       "4738"
      ]
     },
     "execution_count": 113,
     "metadata": {},
     "output_type": "execute_result"
    }
   ],
   "source": [
    "conf_mat = confusion_matrix(y_valid_new_features_cat_part_3, ctb_3.predict(X_valid_new_features_cat_part_3))\n",
    "plt.figure(figsize=[3,3])\n",
    "sns.heatmap(conf_mat, annot=True, fmt='d', cbar=False)\n",
    "plt.xlabel('Предсказанные метки')\n",
    "plt.ylabel('Истинные метки')\n",
    "plt.title('Матрица ошибок')\n",
    "plt.show()"
   ]
  },
  {
   "cell_type": "code",
   "execution_count": 109,
   "id": "3b90bb87",
   "metadata": {},
   "outputs": [
    {
     "data": {
      "text/plain": [
       "array([80956, 19044], dtype=int64)"
      ]
     },
     "execution_count": 109,
     "metadata": {},
     "output_type": "execute_result"
    }
   ],
   "source": [
    "np.bincount(y_train)"
   ]
  },
  {
   "cell_type": "code",
   "execution_count": 33,
   "id": "5f95b325",
   "metadata": {},
   "outputs": [
    {
     "name": "stdout",
     "output_type": "stream",
     "text": [
      "Learning rate set to 0.066942\n"
     ]
    },
    {
     "name": "stderr",
     "output_type": "stream",
     "text": [
      "Warning: Overfitting detector is active, thus evaluation metric is calculated on every iteration. 'metric_period' is ignored for evaluation metric.\n"
     ]
    },
    {
     "name": "stdout",
     "output_type": "stream",
     "text": [
      "0:\ttest: 0.6930752\tbest: 0.6930752 (0)\ttotal: 345ms\tremaining: 11m 29s\n",
      "100:\ttest: 0.7428542\tbest: 0.7428584 (99)\ttotal: 28.5s\tremaining: 8m 55s\n",
      "200:\ttest: 0.7495258\tbest: 0.7495565 (199)\ttotal: 57.3s\tremaining: 8m 32s\n",
      "300:\ttest: 0.7537098\tbest: 0.7537098 (300)\ttotal: 1m 30s\tremaining: 8m 29s\n",
      "400:\ttest: 0.7566591\tbest: 0.7567061 (396)\ttotal: 2m 3s\tremaining: 8m 11s\n",
      "500:\ttest: 0.7584294\tbest: 0.7584294 (500)\ttotal: 2m 37s\tremaining: 7m 51s\n",
      "600:\ttest: 0.7592919\tbest: 0.7593222 (595)\ttotal: 3m 12s\tremaining: 7m 27s\n",
      "700:\ttest: 0.7607611\tbest: 0.7607611 (700)\ttotal: 3m 47s\tremaining: 7m 1s\n",
      "800:\ttest: 0.7618305\tbest: 0.7619444 (783)\ttotal: 4m 24s\tremaining: 6m 35s\n",
      "900:\ttest: 0.7622839\tbest: 0.7622839 (900)\ttotal: 5m 1s\tremaining: 6m 7s\n",
      "1000:\ttest: 0.7625588\tbest: 0.7625588 (1000)\ttotal: 5m 37s\tremaining: 5m 36s\n",
      "1100:\ttest: 0.7630789\tbest: 0.7630789 (1100)\ttotal: 6m 14s\tremaining: 5m 5s\n",
      "1200:\ttest: 0.7635776\tbest: 0.7636547 (1192)\ttotal: 6m 51s\tremaining: 4m 33s\n",
      "1300:\ttest: 0.7642503\tbest: 0.7642526 (1299)\ttotal: 7m 29s\tremaining: 4m 1s\n",
      "1400:\ttest: 0.7643976\tbest: 0.7646270 (1382)\ttotal: 8m 7s\tremaining: 3m 28s\n",
      "Stopped by overfitting detector  (100 iterations wait)\n",
      "\n",
      "bestTest = 0.7646270407\n",
      "bestIteration = 1382\n",
      "\n",
      "Shrink model to first 1383 iterations.\n",
      "CPU times: total: 30min 54s\n",
      "Wall time: 8min 41s\n"
     ]
    },
    {
     "data": {
      "text/plain": [
       "<catboost.core.CatBoostClassifier at 0x18dc2904580>"
      ]
     },
     "execution_count": 33,
     "metadata": {},
     "output_type": "execute_result"
    }
   ],
   "source": [
    "%%time\n",
    "# Видим что наш алгоритм предсказываем гораздо хуже классы 1, пробуем улучшить ситуацию с помощью весов для модели.\n",
    "# И сразу оптимизируем алгоритм по количеству итераций.\n",
    "\n",
    "eval_set = (X_valid_new_features_cat_part_3, y_valid_new_features_cat_part_3)\n",
    "ctb_4 = CatBoostClassifier(random_seed=32, auto_class_weights='Balanced', early_stopping_rounds=100, eval_metric=\"AUC\", \n",
    "                           metric_period=100, iterations=2000)\n",
    "ctb_4.fit(X_train_new_features_cat_part_3, y_train_new_features_cat_part_3, cat_features=cat_features_idx_3, \n",
    "          eval_set=eval_set)"
   ]
  },
  {
   "cell_type": "code",
   "execution_count": 34,
   "id": "5f390fa8",
   "metadata": {},
   "outputs": [
    {
     "data": {
      "text/plain": [
       "0.7646270406724084"
      ]
     },
     "execution_count": 34,
     "metadata": {},
     "output_type": "execute_result"
    }
   ],
   "source": [
    "# Наш лучший результат\n",
    "ctb_valid_predict = ctb_4.predict_proba(X_valid_new_features_cat_part_3)[:, 1]\n",
    "roc_auc_score(y_valid_new_features_cat_part_3, ctb_valid_predict)"
   ]
  },
  {
   "cell_type": "code",
   "execution_count": 151,
   "id": "0a0ef7f7",
   "metadata": {},
   "outputs": [
    {
     "data": {
      "text/html": [
       "<div>\n",
       "<style scoped>\n",
       "    .dataframe tbody tr th:only-of-type {\n",
       "        vertical-align: middle;\n",
       "    }\n",
       "\n",
       "    .dataframe tbody tr th {\n",
       "        vertical-align: top;\n",
       "    }\n",
       "\n",
       "    .dataframe thead th {\n",
       "        text-align: right;\n",
       "    }\n",
       "</style>\n",
       "<table border=\"1\" class=\"dataframe\">\n",
       "  <thead>\n",
       "    <tr style=\"text-align: right;\">\n",
       "      <th></th>\n",
       "      <th>feature_importances</th>\n",
       "    </tr>\n",
       "  </thead>\n",
       "  <tbody>\n",
       "    <tr>\n",
       "      <th>DepTime</th>\n",
       "      <td>30.119665</td>\n",
       "    </tr>\n",
       "    <tr>\n",
       "      <th>UniqueCarrier</th>\n",
       "      <td>10.955977</td>\n",
       "    </tr>\n",
       "    <tr>\n",
       "      <th>Dest</th>\n",
       "      <td>9.607299</td>\n",
       "    </tr>\n",
       "    <tr>\n",
       "      <th>Origin</th>\n",
       "      <td>9.519609</td>\n",
       "    </tr>\n",
       "    <tr>\n",
       "      <th>Distance</th>\n",
       "      <td>9.241380</td>\n",
       "    </tr>\n",
       "    <tr>\n",
       "      <th>Route</th>\n",
       "      <td>9.102014</td>\n",
       "    </tr>\n",
       "    <tr>\n",
       "      <th>Month</th>\n",
       "      <td>7.612624</td>\n",
       "    </tr>\n",
       "    <tr>\n",
       "      <th>DayofMonth</th>\n",
       "      <td>7.071274</td>\n",
       "    </tr>\n",
       "    <tr>\n",
       "      <th>DayOfWeek</th>\n",
       "      <td>6.770159</td>\n",
       "    </tr>\n",
       "  </tbody>\n",
       "</table>\n",
       "</div>"
      ],
      "text/plain": [
       "               feature_importances\n",
       "DepTime                  30.119665\n",
       "UniqueCarrier            10.955977\n",
       "Dest                      9.607299\n",
       "Origin                    9.519609\n",
       "Distance                  9.241380\n",
       "Route                     9.102014\n",
       "Month                     7.612624\n",
       "DayofMonth                7.071274\n",
       "DayOfWeek                 6.770159"
      ]
     },
     "execution_count": 151,
     "metadata": {},
     "output_type": "execute_result"
    }
   ],
   "source": [
    "# Видим что важность наших признаков более равномерней распределилась\n",
    "ctb_4_feature_importances = pd.DataFrame(ctb_4.feature_importances_, index=ctb_4.feature_names_, \n",
    "                                         columns=['feature_importances']).sort_values('feature_importances', \n",
    "                                                                                      ascending=False)\n",
    "ctb_4_feature_importances"
   ]
  },
  {
   "cell_type": "code",
   "execution_count": 152,
   "id": "88cbf93a",
   "metadata": {
    "scrolled": true
   },
   "outputs": [
    {
     "data": {
      "image/png": "[encoded data removed]",
      "text/plain": [
       "<Figure size 300x300 with 1 Axes>"
      ]
     },
     "metadata": {},
     "output_type": "display_data"
    }
   ],
   "source": [
    "# И мы лучше начали предсказывать классы 1, чуть хуже классы 0 чем было.\n",
    "# Но наш главный оптимизационный критерий \"AUC\" не пострадал, а только чуть прибавился.\n",
    "\n",
    "conf_mat = confusion_matrix(y_valid_new_features_cat_part_3, ctb_4.predict(X_valid_new_features_cat_part_3))\n",
    "plt.figure(figsize=[3,3])\n",
    "sns.heatmap(conf_mat, annot=True, fmt='d', cbar=False)\n",
    "plt.xlabel('Предсказанные метки')\n",
    "plt.ylabel('Истинные метки')\n",
    "plt.title('Матрица ошибок')\n",
    "plt.show()"
   ]
  },
  {
   "cell_type": "code",
   "execution_count": 43,
   "id": "5c9e0bec",
   "metadata": {},
   "outputs": [
    {
     "data": {
      "image/png": "[encoded data removed]",
      "text/plain": [
       "<Figure size 500x500 with 1 Axes>"
      ]
     },
     "metadata": {},
     "output_type": "display_data"
    }
   ],
   "source": [
    "# Строим ROC-AUC для всех наших моделей\n",
    "\n",
    "xgb_valid_predict = xgb_final.predict(dvalid)\n",
    "fpr_xgb, tpr_xgb, thresholds_xgb = roc_curve(y_valid_new_features_part, xgb_valid_predict)\n",
    "fpr_cat, tpr_cat, thresholds_cat = roc_curve(y_valid_new_features_cat_part_3, ctb_valid_predict)\n",
    "plt.figure(figsize=(5, 5))\n",
    "plt.plot(fpr_log, tpr_log, color='darkorange', lw=2, label=\"ROC Curve logit (area = {:.2f})\".\n",
    "         format(roc_auc_score(y_valid, logit_valid_pred)))\n",
    "plt.plot(fpr_xgb, tpr_xgb, color='red', lw=2, label=\"ROC Curve xgb (area = {:.2f})\".\n",
    "         format(roc_auc_score(y_valid_new_features_part, xgb_valid_predict)))\n",
    "plt.plot(fpr_cat, tpr_cat, color='green', lw=2, label=\"ROC Curve cat(area = {:.2f})\".\n",
    "         format(roc_auc_score(y_valid_new_features_cat_part_3, ctb_valid_predict)))\n",
    "plt.plot([0, 1], [0, 1], color='navy', lw=2, linestyle='--')\n",
    "plt.xlabel('False Positive Rate')\n",
    "plt.ylabel('True Positive Rate')\n",
    "plt.title('ROC curve')\n",
    "plt.xlim([0,1])\n",
    "plt.ylim([0,1])\n",
    "plt.legend(loc=\"best\")\n",
    "plt.show()"
   ]
  },
  {
   "cell_type": "code",
   "execution_count": 35,
   "id": "092df842",
   "metadata": {},
   "outputs": [
    {
     "data": {
      "text/plain": [
       "1382"
      ]
     },
     "execution_count": 35,
     "metadata": {},
     "output_type": "execute_result"
    }
   ],
   "source": [
    "ctb_4_best_iteration = ctb_4.best_iteration_\n",
    "ctb_4_best_iteration"
   ]
  },
  {
   "cell_type": "code",
   "execution_count": 36,
   "id": "fcc40a10",
   "metadata": {},
   "outputs": [
    {
     "name": "stdout",
     "output_type": "stream",
     "text": [
      "Learning rate set to 0.054713\n",
      "0:\tlearn: 0.6866805\ttotal: 451ms\tremaining: 10m 22s\n",
      "100:\tlearn: 0.5951751\ttotal: 41.6s\tremaining: 8m 47s\n",
      "200:\tlearn: 0.5855834\ttotal: 1m 19s\tremaining: 7m 49s\n",
      "300:\tlearn: 0.5769924\ttotal: 2m 1s\tremaining: 7m 17s\n",
      "400:\tlearn: 0.5705706\ttotal: 2m 43s\tremaining: 6m 40s\n",
      "500:\tlearn: 0.5649915\ttotal: 3m 26s\tremaining: 6m 3s\n",
      "600:\tlearn: 0.5598502\ttotal: 4m 10s\tremaining: 5m 25s\n",
      "700:\tlearn: 0.5548183\ttotal: 5m\tremaining: 4m 52s\n",
      "800:\tlearn: 0.5499589\ttotal: 5m 50s\tremaining: 4m 13s\n",
      "900:\tlearn: 0.5451820\ttotal: 6m 36s\tremaining: 3m 31s\n",
      "1000:\tlearn: 0.5407238\ttotal: 7m 22s\tremaining: 2m 48s\n",
      "1100:\tlearn: 0.5366127\ttotal: 8m 10s\tremaining: 2m 5s\n",
      "1200:\tlearn: 0.5327408\ttotal: 8m 54s\tremaining: 1m 20s\n",
      "1300:\tlearn: 0.5286802\ttotal: 9m 38s\tremaining: 36s\n",
      "1381:\tlearn: 0.5256408\ttotal: 10m 14s\tremaining: 0us\n",
      "CPU times: total: 37min 14s\n",
      "Wall time: 10min 22s\n"
     ]
    }
   ],
   "source": [
    "%%time\n",
    "# Обучаем самый последний алгоритм для всех наших train данных, чтоб спрогнозировать test данные и отправить на Kaggle.\n",
    "\n",
    "ctb_final = CatBoostClassifier(random_seed=32, auto_class_weights='Balanced', iterations=ctb_4_best_iteration)\n",
    "ctb_final.fit(X_train_new_features_cat.drop(\"dep_delayed_15min\", axis=1), y_train, \n",
    "              cat_features=cat_features_idx_3, metric_period=100)\n",
    "result = ctb_final.predict_proba(X_test_new_features_cat)[:, 1]"
   ]
  },
  {
   "cell_type": "code",
   "execution_count": 156,
   "id": "74264c31",
   "metadata": {},
   "outputs": [],
   "source": [
    "# функция для записи прогнозов в файл\n",
    "\n",
    "def write_to_submission_file(\n",
    "    predicted_labels, out_file=\"result.csv\", target=\"dep_delayed_15min\", index_label=\"id\"\n",
    "):\n",
    "    predicted_df = pd.DataFrame(\n",
    "        predicted_labels,\n",
    "        index=np.arange(0, predicted_labels.shape[0]),\n",
    "        columns=[target],\n",
    "    )\n",
    "    predicted_df.to_csv(out_file, index_label=index_label)"
   ]
  },
  {
   "cell_type": "code",
   "execution_count": 160,
   "id": "9c506c9b",
   "metadata": {},
   "outputs": [],
   "source": [
    "write_to_submission_file(result)"
   ]
  }
 ],
 "metadata": {
  "kernelspec": {
   "display_name": "Python 3 (ipykernel)",
   "language": "python",
   "name": "python3"
  },
  "language_info": {
   "codemirror_mode": {
    "name": "ipython",
    "version": 3
   },
   "file_extension": ".py",
   "mimetype": "text/x-python",
   "name": "python",
   "nbconvert_exporter": "python",
   "pygments_lexer": "ipython3",
   "version": "3.10.1"
  }
 },
 "nbformat": 4,
 "nbformat_minor": 5
}
